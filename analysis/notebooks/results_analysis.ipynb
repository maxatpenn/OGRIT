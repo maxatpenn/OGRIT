{
 "cells": [
  {
   "cell_type": "code",
   "execution_count": 1,
   "id": "88d228e5",
   "metadata": {},
   "outputs": [
    {
     "ename": "ModuleNotFoundError",
     "evalue": "No module named 'igp2'",
     "output_type": "error",
     "traceback": [
      "\u001B[0;31m---------------------------------------------------------------------------\u001B[0m",
      "\u001B[0;31mModuleNotFoundError\u001B[0m                       Traceback (most recent call last)",
      "\u001B[0;32m/tmp/ipykernel_175984/3141228925.py\u001B[0m in \u001B[0;36m<module>\u001B[0;34m\u001B[0m\n\u001B[1;32m      3\u001B[0m \u001B[0;32mimport\u001B[0m \u001B[0mmatplotlib\u001B[0m\u001B[0;34m.\u001B[0m\u001B[0mpyplot\u001B[0m \u001B[0;32mas\u001B[0m \u001B[0mplt\u001B[0m\u001B[0;34m\u001B[0m\u001B[0;34m\u001B[0m\u001B[0m\n\u001B[1;32m      4\u001B[0m \u001B[0;34m\u001B[0m\u001B[0m\n\u001B[0;32m----> 5\u001B[0;31m \u001B[0;32mfrom\u001B[0m \u001B[0migp2\u001B[0m \u001B[0;32mimport\u001B[0m \u001B[0mAgentState\u001B[0m\u001B[0;34m\u001B[0m\u001B[0;34m\u001B[0m\u001B[0m\n\u001B[0m\u001B[1;32m      6\u001B[0m \u001B[0;32mfrom\u001B[0m \u001B[0migp2\u001B[0m\u001B[0;34m.\u001B[0m\u001B[0mdata\u001B[0m\u001B[0;34m.\u001B[0m\u001B[0mdata_loaders\u001B[0m \u001B[0;32mimport\u001B[0m \u001B[0mInDDataLoader\u001B[0m\u001B[0;34m\u001B[0m\u001B[0;34m\u001B[0m\u001B[0m\n\u001B[1;32m      7\u001B[0m \u001B[0;32mfrom\u001B[0m \u001B[0migp2\u001B[0m\u001B[0;34m.\u001B[0m\u001B[0mdata\u001B[0m\u001B[0;34m.\u001B[0m\u001B[0mepisode\u001B[0m \u001B[0;32mimport\u001B[0m \u001B[0mFrame\u001B[0m\u001B[0;34m\u001B[0m\u001B[0;34m\u001B[0m\u001B[0m\n",
      "\u001B[0;31mModuleNotFoundError\u001B[0m: No module named 'igp2'"
     ]
    }
   ],
   "source": [
    "import pandas as pd\n",
    "import numpy as np\n",
    "import matplotlib.pyplot as plt\n",
    "\n",
    "from igp2 import AgentState\n",
    "from igp2.data.data_loaders import InDDataLoader\n",
    "from igp2.data.episode import Frame\n",
    "from igp2.data.scenario import InDScenario, ScenarioConfig\n",
    "from igp2.opendrive.map import Map\n",
    "from igp2.opendrive.plot_map import plot_map\n",
    "from core.feature_extraction import FeatureExtractor, GoalDetector\n",
    "from core.goal_generator import GoalGenerator\n",
    "from core import feature_extraction\n",
    "print(feature_extraction.__file__)"
   ]
  },
  {
   "cell_type": "code",
   "execution_count": null,
   "id": "0b64032d",
   "metadata": {},
   "outputs": [],
   "source": [
    "odr_results = pd.read_csv('../predictions/heckstrasse_trained_trees_test.csv')\n",
    "odr_results.shape"
   ]
  },
  {
   "cell_type": "code",
   "execution_count": null,
   "id": "daef4fb7",
   "metadata": {},
   "outputs": [],
   "source": [
    "lanelet_results = pd.read_csv('../../GRIT-lanelet/predictions/heckstrasse_trained_trees_test.csv')\n",
    "lanelet_results.shape"
   ]
  },
  {
   "cell_type": "code",
   "execution_count": null,
   "id": "e75cf3c5",
   "metadata": {},
   "outputs": [],
   "source": [
    "odr_results = pd.read_csv('../predictions/frankenburg_trained_trees_test.csv')"
   ]
  },
  {
   "cell_type": "code",
   "execution_count": null,
   "id": "2d57c6e0",
   "metadata": {
    "scrolled": false
   },
   "outputs": [],
   "source": [
    "odr_results"
   ]
  },
  {
   "cell_type": "code",
   "execution_count": null,
   "id": "cc69902e",
   "metadata": {},
   "outputs": [],
   "source": [
    "lanelet_results = pd.read_csv('../../GRIT-lanelet/predictions/frankenburg_trained_trees_test.csv')"
   ]
  },
  {
   "cell_type": "code",
   "execution_count": null,
   "id": "f77cd254",
   "metadata": {},
   "outputs": [],
   "source": [
    "lanelet_results"
   ]
  },
  {
   "cell_type": "code",
   "execution_count": null,
   "id": "ac037435",
   "metadata": {},
   "outputs": [],
   "source": [
    "lanelet_results[['episode', 'agent_id']].drop_duplicates()"
   ]
  },
  {
   "cell_type": "code",
   "execution_count": null,
   "id": "0d1074e4",
   "metadata": {},
   "outputs": [],
   "source": [
    "odr_results[['episode', 'agent_id']].drop_duplicates()"
   ]
  },
  {
   "cell_type": "code",
   "execution_count": null,
   "id": "af467b8d",
   "metadata": {},
   "outputs": [],
   "source": [
    "lanelet_agents = lanelet_results.agent_id.drop_duplicates()\n",
    "odr_agents = odr_results.agent_id.drop_duplicates()"
   ]
  },
  {
   "cell_type": "code",
   "execution_count": null,
   "id": "e51758b2",
   "metadata": {},
   "outputs": [],
   "source": [
    "lanelet_agents.isin(odr_agents).sum()"
   ]
  },
  {
   "cell_type": "code",
   "execution_count": null,
   "id": "cefa2ac0",
   "metadata": {},
   "outputs": [],
   "source": [
    "lanelet_agents.shape"
   ]
  },
  {
   "cell_type": "code",
   "execution_count": null,
   "id": "a63b33ed",
   "metadata": {},
   "outputs": [],
   "source": [
    "odr_agents.isin(lanelet_agents).sum()"
   ]
  },
  {
   "cell_type": "code",
   "execution_count": null,
   "id": "4852bc79",
   "metadata": {},
   "outputs": [],
   "source": [
    "odr_agents.shape"
   ]
  },
  {
   "cell_type": "code",
   "execution_count": null,
   "id": "e7ba35ea",
   "metadata": {},
   "outputs": [],
   "source": [
    "lanelet_agents.loc[~lanelet_agents.isin(odr_agents)]"
   ]
  },
  {
   "cell_type": "code",
   "execution_count": null,
   "id": "86e70da7",
   "metadata": {},
   "outputs": [],
   "source": [
    "lanelet_results.loc[lanelet_results.agent_id==75]"
   ]
  },
  {
   "cell_type": "markdown",
   "id": "d2d6abe0",
   "metadata": {},
   "source": [
    "Why does opendrive have more vehicles? e.g agent 1. \n",
    "Different goal locations? - yes\n",
    "Bicycles are also included - needs fixing\n",
    "\n",
    "Why are some agents included in lanelet2 but not odr? e.g. 75 - vehicle misses goal slightly to the right. Should goal detection be based on dist along lane rather than pointgoal? or increase goal radius to match lane width\n",
    "\n",
    "Baseline acc goes down at final point (1.0 of traj obs)"
   ]
  },
  {
   "cell_type": "code",
   "execution_count": null,
   "id": "6c763284",
   "metadata": {},
   "outputs": [],
   "source": [
    "%cd .."
   ]
  },
  {
   "cell_type": "code",
   "execution_count": null,
   "id": "a4f0ac26",
   "metadata": {},
   "outputs": [],
   "source": [
    "scenario_name = 'frankenburg'\n",
    "scenario_map = Map.parse_from_opendrive(f\"scenarios/maps/{scenario_name}.xodr\")\n",
    "\n",
    "scenario_config = ScenarioConfig.load(f\"scenarios/configs/{scenario_name}.json\")\n",
    "scenario = InDScenario(scenario_config)"
   ]
  },
  {
   "cell_type": "code",
   "execution_count": null,
   "outputs": [],
   "source": [
    "frankenburg"
   ],
   "metadata": {
    "collapsed": false,
    "pycharm": {
     "name": "#%%\n"
    }
   }
  },
  {
   "cell_type": "code",
   "execution_count": null,
   "id": "82a2c8ee",
   "metadata": {},
   "outputs": [],
   "source": [
    "episode_idx = 5\n",
    "episode = scenario.load_episode(episode_idx)\n",
    "agent = episode.agents[75]"
   ]
  },
  {
   "cell_type": "code",
   "execution_count": null,
   "id": "229c3474",
   "metadata": {},
   "outputs": [],
   "source": [
    "fig, ax = plt.subplots(figsize=(10, 6))\n",
    "plot_map(scenario_map, ax=ax)\n",
    "path = agent.trajectory.path\n",
    "ax.plot(path[:, 0], path[:, 1])\n",
    "ax.plot(*scenario_config.goals[0], 'o')"
   ]
  },
  {
   "cell_type": "code",
   "execution_count": null,
   "id": "904fdb56",
   "metadata": {},
   "outputs": [],
   "source": [
    "scenario_name = 'heckstrasse'\n",
    "scenario_map = Map.parse_from_opendrive(f\"scenarios/maps/{scenario_name}.xodr\")\n",
    "\n",
    "scenario_config = ScenarioConfig.load(f\"scenarios/configs/{scenario_name}.json\")\n",
    "scenario = InDScenario(scenario_config)"
   ]
  },
  {
   "cell_type": "code",
   "execution_count": null,
   "id": "fc5bfb3d",
   "metadata": {},
   "outputs": [],
   "source": [
    "goal_detector = GoalDetector(scenario.config.goals)"
   ]
  },
  {
   "cell_type": "code",
   "execution_count": null,
   "id": "648a56c9",
   "metadata": {},
   "outputs": [],
   "source": [
    "episode_idx = 0\n",
    "episode = scenario.load_episode(episode_idx)"
   ]
  },
  {
   "cell_type": "code",
   "execution_count": null,
   "id": "bde930e2",
   "metadata": {},
   "outputs": [],
   "source": [
    "agent = episode.agents[0]"
   ]
  },
  {
   "cell_type": "code",
   "execution_count": null,
   "id": "267e3e1a",
   "metadata": {},
   "outputs": [],
   "source": [
    "agent_goals, goal_frame_idxes = goal_detector.detect_goals(agent.trajectory)"
   ]
  },
  {
   "cell_type": "code",
   "execution_count": null,
   "id": "fb70333b",
   "metadata": {},
   "outputs": [],
   "source": [
    "agent_goals"
   ]
  },
  {
   "cell_type": "code",
   "execution_count": null,
   "id": "5edc4dbb",
   "metadata": {},
   "outputs": [],
   "source": [
    "trajectory = agent.trajectory"
   ]
  },
  {
   "cell_type": "code",
   "execution_count": null,
   "id": "9fa5bfd8",
   "metadata": {},
   "outputs": [],
   "source": [
    "feature_extractor = FeatureExtractor(scenario_map)"
   ]
  },
  {
   "cell_type": "code",
   "execution_count": null,
   "id": "974da5df",
   "metadata": {},
   "outputs": [],
   "source": [
    "for idx in range(0, len(agent.trajectory.path)):\n",
    "    typed_goals = feature_extractor.get_typed_goals(agent.trajectory.slice(0, idx+1), scenario.config.goals)\n",
    "    print(idx, [g is not None for g in typed_goals])"
   ]
  },
  {
   "cell_type": "code",
   "execution_count": null,
   "id": "e3549507",
   "metadata": {},
   "outputs": [],
   "source": [
    "typed_goals"
   ]
  },
  {
   "cell_type": "code",
   "execution_count": null,
   "id": "9612686b",
   "metadata": {},
   "outputs": [],
   "source": [
    "agent.trajectory.path[68]"
   ]
  },
  {
   "cell_type": "code",
   "execution_count": null,
   "id": "0aa57942",
   "metadata": {},
   "outputs": [],
   "source": [
    "ax = plot_map(scenario_map)\n",
    "ax.plot(*agent.trajectory.path[68], 'o')\n",
    "ax.plot([20],[-60], 'o')"
   ]
  },
  {
   "cell_type": "code",
   "execution_count": null,
   "id": "ca0b2c60",
   "metadata": {},
   "outputs": [],
   "source": [
    "scenario_map.lanes_at(agent.trajectory.path[0], max_distance=3)"
   ]
  },
  {
   "cell_type": "code",
   "execution_count": null,
   "id": "545828b1",
   "metadata": {},
   "outputs": [],
   "source": [
    "lanes = scenario_map.lanes_within_angle(agent.trajectory.path[0],\n",
    "                                        agent.trajectory.heading[0],\n",
    "                                threshold=np.pi/4, max_distance=3)\n",
    "print(lanes)"
   ]
  },
  {
   "cell_type": "code",
   "execution_count": null,
   "id": "a9a06edc",
   "metadata": {},
   "outputs": [],
   "source": [
    "ax = plot_map(scenario_map)\n",
    "for lane in lanes:\n",
    "    ax.plot(*list(zip(*[x for x in lane.midline.coords])))"
   ]
  },
  {
   "cell_type": "code",
   "execution_count": null,
   "id": "6473b7de",
   "metadata": {},
   "outputs": [],
   "source": [
    "goal_point = np.array((62.2, -47.3))\n",
    "idx = 70\n",
    "best_lane = scenario_map.best_lane_at(agent.trajectory.path[idx],\n",
    "                                  agent.trajectory.heading[idx],\n",
    "                                  max_distance=3, goal_point=goal_point)\n",
    "print(best_lane)"
   ]
  },
  {
   "cell_type": "code",
   "execution_count": null,
   "id": "784010b4",
   "metadata": {},
   "outputs": [],
   "source": [
    "ax = plot_map(scenario_map)\n",
    "ax.plot(*list(zip(*[x for x in best_lane.midline.coords])))"
   ]
  },
  {
   "cell_type": "code",
   "execution_count": null,
   "id": "aff59cc8",
   "metadata": {},
   "outputs": [],
   "source": [
    "data = pd.read_csv('data/heckstrasse_e0.csv')"
   ]
  },
  {
   "cell_type": "code",
   "execution_count": null,
   "id": "90aaddf4",
   "metadata": {},
   "outputs": [],
   "source": [
    "goals_10 = data.loc[data.fraction_observed==1.0].value_counts('agent_id')"
   ]
  },
  {
   "cell_type": "code",
   "execution_count": null,
   "id": "a5815c3d",
   "metadata": {},
   "outputs": [],
   "source": [
    "goals_09 = data.loc[data.fraction_observed==0.9].value_counts('agent_id')"
   ]
  },
  {
   "cell_type": "code",
   "execution_count": null,
   "id": "68b9d48d",
   "metadata": {},
   "outputs": [],
   "source": [
    "(goals_10 > goals_09).sum()"
   ]
  },
  {
   "cell_type": "code",
   "execution_count": null,
   "id": "36ba32ee",
   "metadata": {},
   "outputs": [],
   "source": [
    "predictions = pd.read_csv('predictions/heckstrasse_prior_baseline_test.csv')\n",
    "predictions"
   ]
  },
  {
   "cell_type": "code",
   "execution_count": null,
   "id": "bcdf4365",
   "metadata": {},
   "outputs": [],
   "source": [
    "predictions.loc[predictions.fraction_observed==1.0].model_correct.mean()"
   ]
  },
  {
   "cell_type": "code",
   "execution_count": null,
   "id": "99a20329",
   "metadata": {},
   "outputs": [],
   "source": [
    "predictions.loc[predictions.fraction_observed==0.9].model_correct.mean()"
   ]
  },
  {
   "cell_type": "code",
   "execution_count": null,
   "id": "ecc90995",
   "metadata": {},
   "outputs": [],
   "source": [
    "idx = predictions.loc[predictions.fraction_observed==0.9].set_index('agent_id').model_correct \\\n",
    "                      != predictions.loc[predictions.fraction_observed==1.0].set_index('agent_id').model_correct"
   ]
  },
  {
   "cell_type": "code",
   "execution_count": null,
   "id": "5329be8f",
   "metadata": {},
   "outputs": [],
   "source": [
    "idx.loc[idx]"
   ]
  },
  {
   "cell_type": "code",
   "execution_count": null,
   "id": "f0026a3c",
   "metadata": {},
   "outputs": [],
   "source": [
    "predictions.loc[predictions.agent_id==15]"
   ]
  },
  {
   "cell_type": "markdown",
   "id": "52c83c7c",
   "metadata": {},
   "source": [
    "Problem: Wrong goal type inferred at the last minute - why? G1 assigned goal type turn-left"
   ]
  },
  {
   "cell_type": "code",
   "execution_count": null,
   "id": "33d8a605",
   "metadata": {},
   "outputs": [],
   "source": [
    "data.loc[data.agent_id==15]"
   ]
  },
  {
   "cell_type": "code",
   "execution_count": null,
   "id": "41646abf",
   "metadata": {},
   "outputs": [],
   "source": [
    "# lane id -1 on road 6, heckstrasse - detected as goal G1 - this must be junction NE to SE\n",
    "# take into account trajectory history when detecting lane? Is this done for lanelet2 GRIT? e.g. previous lanelet"
   ]
  },
  {
   "cell_type": "code",
   "execution_count": null,
   "id": "dca49d23",
   "metadata": {},
   "outputs": [],
   "source": [
    "ax = plot_map(scenario_map)\n",
    "lane = scenario_map.get_lane(7, -1)\n",
    "ax.plot(*list(zip(*[x for x in lane.midline.coords])))\n",
    "ax.plot([36.0], [-27.0], 'o')"
   ]
  },
  {
   "cell_type": "code",
   "execution_count": null,
   "id": "1b932237",
   "metadata": {},
   "outputs": [],
   "source": [
    "heading = -0.6367160078810041\n",
    "speed = 15.915689301070186"
   ]
  },
  {
   "cell_type": "code",
   "execution_count": null,
   "id": "aef0bbb8",
   "metadata": {},
   "outputs": [],
   "source": [
    "scenario_name = 'round'\n",
    "scenario_map = Map.parse_from_opendrive(f\"scenarios/maps/{scenario_name}.xodr\")\n",
    "\n",
    "scenario_config = ScenarioConfig.load(f\"scenarios/configs/{scenario_name}.json\")\n",
    "scenario = InDScenario(scenario_config)"
   ]
  },
  {
   "cell_type": "code",
   "execution_count": null,
   "id": "562f69a7",
   "metadata": {},
   "outputs": [],
   "source": []
  },
  {
   "cell_type": "code",
   "execution_count": null,
   "id": "ba73cef1",
   "metadata": {},
   "outputs": [],
   "source": [
    "episode_idx = 0\n",
    "episode = scenario.load_episode(episode_idx)\n"
   ]
  },
  {
   "cell_type": "code",
   "execution_count": null,
   "id": "669490ad",
   "metadata": {},
   "outputs": [],
   "source": [
    "print(len(agent_goals))\n",
    "for g in agent_goals:\n",
    "    print(g)"
   ]
  },
  {
   "cell_type": "code",
   "execution_count": null,
   "id": "d09d656d",
   "metadata": {},
   "outputs": [],
   "source": [
    "pwd"
   ]
  },
  {
   "cell_type": "code",
   "execution_count": null,
   "id": "461bb787",
   "metadata": {},
   "outputs": [],
   "source": [
    "odr_results = pd.read_csv('predictions/round_trained_trees_test.csv')\n",
    "odr_results.shape"
   ]
  },
  {
   "cell_type": "code",
   "execution_count": null,
   "id": "469cc9c6",
   "metadata": {},
   "outputs": [],
   "source": [
    "lanelet_results = pd.read_csv('../GRIT-lanelet/predictions/round_trained_trees_test.csv')\n",
    "lanelet_results.shape"
   ]
  },
  {
   "cell_type": "code",
   "execution_count": null,
   "id": "f3b6afa8",
   "metadata": {},
   "outputs": [],
   "source": [
    "odr_results[['episode', 'agent_id', 'fraction_observed']]"
   ]
  },
  {
   "cell_type": "code",
   "execution_count": null,
   "id": "81c3c5cc",
   "metadata": {},
   "outputs": [],
   "source": [
    "# isin with multiple columns?"
   ]
  },
  {
   "cell_type": "code",
   "execution_count": null,
   "id": "3ddf5988",
   "metadata": {},
   "outputs": [],
   "source": [
    "episode = 4\n",
    "fraction_observerd = 0.8\n",
    "odr_samples = odr_results.loc[(odr_results.episode == episode) \n",
    "                & (odr_results.fraction_observed == fraction_observerd)].set_index('agent_id')\n",
    "lanelet_samples = lanelet_results.loc[(lanelet_results.episode == episode) \n",
    "                & (lanelet_results.fraction_observed == fraction_observerd)].set_index('agent_id')"
   ]
  },
  {
   "cell_type": "code",
   "execution_count": null,
   "id": "6b8a504f",
   "metadata": {},
   "outputs": [],
   "source": [
    "lanelet_samples"
   ]
  },
  {
   "cell_type": "code",
   "execution_count": null,
   "id": "292e4a22",
   "metadata": {},
   "outputs": [],
   "source": [
    "odr_samples"
   ]
  },
  {
   "cell_type": "code",
   "execution_count": null,
   "id": "34c15bac",
   "metadata": {},
   "outputs": [],
   "source": [
    "odr_samples = odr_samples.join(lanelet_samples.model_correct, rsuffix='_ll')"
   ]
  },
  {
   "cell_type": "code",
   "execution_count": null,
   "id": "9da4e0fa",
   "metadata": {
    "scrolled": true
   },
   "outputs": [],
   "source": [
    "odr_samples.loc[odr_samples.model_correct != odr_samples.model_correct_ll]"
   ]
  },
  {
   "cell_type": "code",
   "execution_count": null,
   "id": "8a6227b3",
   "metadata": {},
   "outputs": [],
   "source": []
  }
 ],
 "metadata": {
  "kernelspec": {
   "display_name": "igp2env",
   "language": "python",
   "name": "igp2env"
  },
  "language_info": {
   "codemirror_mode": {
    "name": "ipython",
    "version": 3
   },
   "file_extension": ".py",
   "mimetype": "text/x-python",
   "name": "python",
   "nbconvert_exporter": "python",
   "pygments_lexer": "ipython3",
   "version": "3.8.5"
  }
 },
 "nbformat": 4,
 "nbformat_minor": 5
}