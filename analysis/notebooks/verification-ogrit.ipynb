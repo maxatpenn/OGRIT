{
 "cells": [
  {
   "cell_type": "code",
   "execution_count": 1,
   "metadata": {},
   "outputs": [],
   "source": [
    "from z3 import *\n",
    "\n",
    "import matplotlib.pyplot as plt\n",
    "import matplotlib.image as mpimg\n",
    "import numpy as np\n",
    "import pandas as pd\n",
    "from IPython.display import Image\n",
    "\n",
    "from ogrit.decisiontree.dt_goal_recogniser import OcclusionGrit\n",
    "from ogrit.evaluation.verification import add_goal_tree_model, extract_counter_example, \\\n",
    "            extract_tree_counter_example, add_single_tree_model, verify_proposition\n",
    "from ogrit.core.data_processing import get_dataset\n",
    "from ogrit.core.feature_extraction import FeatureExtractor\n",
    "from ogrit.core.base import get_data_dir, get_img_dir"
   ]
  },
  {
   "cell_type": "code",
   "execution_count": 2,
   "metadata": {},
   "outputs": [],
   "source": [
    "import z3"
   ]
  },
  {
   "cell_type": "markdown",
   "metadata": {},
   "source": [
    "# OGRIT"
   ]
  },
  {
   "cell_type": "code",
   "execution_count": 3,
   "metadata": {},
   "outputs": [
    {
     "name": "stdout",
     "output_type": "stream",
     "text": [
      "unsat\n"
     ]
    }
   ],
   "source": [
    "# sanity check\n",
    "scenario_name = 'heckstrasse'\n",
    "model = OcclusionGrit.load(scenario_name)\n",
    "reachable_goals = [(1, 'straight-on'), (2, 'exit-left')]\n",
    "\n",
    "s = Solver()\n",
    "\n",
    "features, probs, likelihoods = add_goal_tree_model(reachable_goals, s, model)\n",
    "\n",
    "verify_expr = And(probs[1] > 0., probs[2] > 0.)\n",
    "s.add(Not(verify_expr))\n",
    "\n",
    "print(s.check())\n"
   ]
  },
  {
   "cell_type": "code",
   "execution_count": 4,
   "metadata": {},
   "outputs": [
    {
     "name": "stdout",
     "output_type": "stream",
     "text": [
      "sat\n"
     ]
    }
   ],
   "source": [
    "scenario_name = 'heckstrasse'\n",
    "model = OcclusionGrit.load(scenario_name)\n",
    "reachable_goals = [(1, 'straight-on'), (2, 'exit-left')]\n",
    "\n",
    "s = Solver()\n",
    "\n",
    "features, probs, likelihoods = add_goal_tree_model(reachable_goals, s, model)\n",
    "\n",
    "verify_expr = Implies(And(features[1]['in_correct_lane'],\n",
    "                          Not(features[2]['in_correct_lane'])),\n",
    "                      probs[2] < probs[1])\n",
    "s.add(Not(verify_expr))\n",
    "\n",
    "print(s.check())"
   ]
  },
  {
   "cell_type": "code",
   "execution_count": 5,
   "metadata": {},
   "outputs": [
    {
     "data": {
      "text/html": [
       "<div>\n",
       "<style scoped>\n",
       "    .dataframe tbody tr th:only-of-type {\n",
       "        vertical-align: middle;\n",
       "    }\n",
       "\n",
       "    .dataframe tbody tr th {\n",
       "        vertical-align: top;\n",
       "    }\n",
       "\n",
       "    .dataframe thead th {\n",
       "        text-align: right;\n",
       "    }\n",
       "</style>\n",
       "<table border=\"1\" class=\"dataframe\">\n",
       "  <thead>\n",
       "    <tr style=\"text-align: right;\">\n",
       "      <th></th>\n",
       "      <th>1</th>\n",
       "      <th>2</th>\n",
       "    </tr>\n",
       "  </thead>\n",
       "  <tbody>\n",
       "    <tr>\n",
       "      <th>path_to_goal_length</th>\n",
       "      <td>28.0</td>\n",
       "      <td>47.24675</td>\n",
       "    </tr>\n",
       "    <tr>\n",
       "      <th>in_correct_lane</th>\n",
       "      <td>True</td>\n",
       "      <td>False</td>\n",
       "    </tr>\n",
       "    <tr>\n",
       "      <th>speed</th>\n",
       "      <td>9.0</td>\n",
       "      <td>9.0</td>\n",
       "    </tr>\n",
       "    <tr>\n",
       "      <th>acceleration</th>\n",
       "      <td>3.0</td>\n",
       "      <td>3.0</td>\n",
       "    </tr>\n",
       "    <tr>\n",
       "      <th>angle_in_lane</th>\n",
       "      <td>2.0</td>\n",
       "      <td>2.0</td>\n",
       "    </tr>\n",
       "    <tr>\n",
       "      <th>vehicle_in_front_dist</th>\n",
       "      <td>0.0</td>\n",
       "      <td>0.0</td>\n",
       "    </tr>\n",
       "    <tr>\n",
       "      <th>vehicle_in_front_speed</th>\n",
       "      <td>0.0</td>\n",
       "      <td>0.0</td>\n",
       "    </tr>\n",
       "    <tr>\n",
       "      <th>oncoming_vehicle_dist</th>\n",
       "      <td>None</td>\n",
       "      <td>None</td>\n",
       "    </tr>\n",
       "    <tr>\n",
       "      <th>oncoming_vehicle_speed</th>\n",
       "      <td>None</td>\n",
       "      <td>None</td>\n",
       "    </tr>\n",
       "    <tr>\n",
       "      <th>road_heading</th>\n",
       "      <td>1.0</td>\n",
       "      <td>None</td>\n",
       "    </tr>\n",
       "    <tr>\n",
       "      <th>exit_number</th>\n",
       "      <td>None</td>\n",
       "      <td>None</td>\n",
       "    </tr>\n",
       "    <tr>\n",
       "      <th>heading_change_1s</th>\n",
       "      <td>0.0</td>\n",
       "      <td>0.0</td>\n",
       "    </tr>\n",
       "    <tr>\n",
       "      <th>oncoming_vehicle_missing</th>\n",
       "      <td>None</td>\n",
       "      <td>None</td>\n",
       "    </tr>\n",
       "    <tr>\n",
       "      <th>target_1s_occluded</th>\n",
       "      <td>False</td>\n",
       "      <td>None</td>\n",
       "    </tr>\n",
       "    <tr>\n",
       "      <th>vehicle_in_front_missing</th>\n",
       "      <td>True</td>\n",
       "      <td>None</td>\n",
       "    </tr>\n",
       "    <tr>\n",
       "      <th>exit_number_missing</th>\n",
       "      <td>None</td>\n",
       "      <td>None</td>\n",
       "    </tr>\n",
       "    <tr>\n",
       "      <th>goal probability</th>\n",
       "      <td>0.278287</td>\n",
       "      <td>0.721713</td>\n",
       "    </tr>\n",
       "    <tr>\n",
       "      <th>goal likelihood</th>\n",
       "      <td>0.274423</td>\n",
       "      <td>0.711694</td>\n",
       "    </tr>\n",
       "  </tbody>\n",
       "</table>\n",
       "</div>"
      ],
      "text/plain": [
       "                                 1         2\n",
       "path_to_goal_length           28.0  47.24675\n",
       "in_correct_lane               True     False\n",
       "speed                          9.0       9.0\n",
       "acceleration                   3.0       3.0\n",
       "angle_in_lane                  2.0       2.0\n",
       "vehicle_in_front_dist          0.0       0.0\n",
       "vehicle_in_front_speed         0.0       0.0\n",
       "oncoming_vehicle_dist         None      None\n",
       "oncoming_vehicle_speed        None      None\n",
       "road_heading                   1.0      None\n",
       "exit_number                   None      None\n",
       "heading_change_1s              0.0       0.0\n",
       "oncoming_vehicle_missing      None      None\n",
       "target_1s_occluded           False      None\n",
       "vehicle_in_front_missing      True      None\n",
       "exit_number_missing           None      None\n",
       "goal probability          0.278287  0.721713\n",
       "goal likelihood           0.274423  0.711694"
      ]
     },
     "execution_count": 5,
     "metadata": {},
     "output_type": "execute_result"
    }
   ],
   "source": [
    "extract_counter_example(s, features, probs, likelihoods)"
   ]
  },
  {
   "cell_type": "markdown",
   "metadata": {},
   "source": [
    "Verify that having missing feature does not lead to entropy decrease, all other features equal"
   ]
  },
  {
   "cell_type": "code",
   "execution_count": 6,
   "metadata": {},
   "outputs": [
    {
     "name": "stdout",
     "output_type": "stream",
     "text": [
      "sat\n"
     ]
    }
   ],
   "source": [
    "scenario_name = 'heckstrasse'\n",
    "model = OcclusionGrit.load(scenario_name)\n",
    "reachable_goals = [(1, 'straight-on'), (2, 'exit-left')]\n",
    "\n",
    "s = Solver()\n",
    "\n",
    "features1, probs1, likelihoods1 = add_goal_tree_model(reachable_goals, s, model, suffix='_1')\n",
    "features2, probs2, likelihoods2 = add_goal_tree_model(reachable_goals, s, model, suffix='_2')\n",
    "\n",
    "indicator_feature = 'vehicle_in_front_missing'\n",
    "\n",
    "for goal_idx, goal_type in reachable_goals:\n",
    "    s.add(And(features1[goal_idx][indicator_feature], \\\n",
    "          Not(features2[goal_idx][indicator_feature])))\n",
    "    \n",
    "    for feature_name in features1[goal_idx]:\n",
    "        if feature_name != indicator_feature:\n",
    "            s.add(features1[goal_idx][feature_name] == features2[goal_idx][feature_name])\n",
    "\n",
    "\n",
    "verify_expr = And(Implies(probs1[1] < probs1[2], probs2[2] >= probs1[2]), \n",
    "                  Implies(probs1[1] > probs1[2], probs2[1] >= probs1[1]))\n",
    "# 2 should have lower entropy than 1\n",
    "# missing in 1, not missing in 2\n",
    "s.add(Not(verify_expr))\n",
    "\n",
    "\n",
    "print(s.check())"
   ]
  },
  {
   "cell_type": "code",
   "execution_count": 7,
   "metadata": {},
   "outputs": [
    {
     "data": {
      "text/html": [
       "<div>\n",
       "<style scoped>\n",
       "    .dataframe tbody tr th:only-of-type {\n",
       "        vertical-align: middle;\n",
       "    }\n",
       "\n",
       "    .dataframe tbody tr th {\n",
       "        vertical-align: top;\n",
       "    }\n",
       "\n",
       "    .dataframe thead th {\n",
       "        text-align: right;\n",
       "    }\n",
       "</style>\n",
       "<table border=\"1\" class=\"dataframe\">\n",
       "  <thead>\n",
       "    <tr style=\"text-align: right;\">\n",
       "      <th></th>\n",
       "      <th>1</th>\n",
       "      <th>2</th>\n",
       "    </tr>\n",
       "  </thead>\n",
       "  <tbody>\n",
       "    <tr>\n",
       "      <th>path_to_goal_length</th>\n",
       "      <td>0.0</td>\n",
       "      <td>30.0</td>\n",
       "    </tr>\n",
       "    <tr>\n",
       "      <th>in_correct_lane</th>\n",
       "      <td>False</td>\n",
       "      <td>True</td>\n",
       "    </tr>\n",
       "    <tr>\n",
       "      <th>speed</th>\n",
       "      <td>10.0</td>\n",
       "      <td>10.0</td>\n",
       "    </tr>\n",
       "    <tr>\n",
       "      <th>acceleration</th>\n",
       "      <td>2.0</td>\n",
       "      <td>2.0</td>\n",
       "    </tr>\n",
       "    <tr>\n",
       "      <th>angle_in_lane</th>\n",
       "      <td>1.0</td>\n",
       "      <td>1.0</td>\n",
       "    </tr>\n",
       "    <tr>\n",
       "      <th>vehicle_in_front_dist</th>\n",
       "      <td>0.0</td>\n",
       "      <td>0.0</td>\n",
       "    </tr>\n",
       "    <tr>\n",
       "      <th>vehicle_in_front_speed</th>\n",
       "      <td>0.0</td>\n",
       "      <td>0.0</td>\n",
       "    </tr>\n",
       "    <tr>\n",
       "      <th>oncoming_vehicle_dist</th>\n",
       "      <td>0.0</td>\n",
       "      <td>0.0</td>\n",
       "    </tr>\n",
       "    <tr>\n",
       "      <th>oncoming_vehicle_speed</th>\n",
       "      <td>0.0</td>\n",
       "      <td>0.0</td>\n",
       "    </tr>\n",
       "    <tr>\n",
       "      <th>road_heading</th>\n",
       "      <td>1.0</td>\n",
       "      <td>0.0</td>\n",
       "    </tr>\n",
       "    <tr>\n",
       "      <th>exit_number</th>\n",
       "      <td>0.0</td>\n",
       "      <td>0.0</td>\n",
       "    </tr>\n",
       "    <tr>\n",
       "      <th>heading_change_1s</th>\n",
       "      <td>0.0</td>\n",
       "      <td>0.0</td>\n",
       "    </tr>\n",
       "    <tr>\n",
       "      <th>oncoming_vehicle_missing</th>\n",
       "      <td>False</td>\n",
       "      <td>False</td>\n",
       "    </tr>\n",
       "    <tr>\n",
       "      <th>target_1s_occluded</th>\n",
       "      <td>True</td>\n",
       "      <td>False</td>\n",
       "    </tr>\n",
       "    <tr>\n",
       "      <th>vehicle_in_front_missing</th>\n",
       "      <td>True</td>\n",
       "      <td>True</td>\n",
       "    </tr>\n",
       "    <tr>\n",
       "      <th>exit_number_missing</th>\n",
       "      <td>False</td>\n",
       "      <td>False</td>\n",
       "    </tr>\n",
       "    <tr>\n",
       "      <th>goal probability</th>\n",
       "      <td>0.00846</td>\n",
       "      <td>0.99154</td>\n",
       "    </tr>\n",
       "    <tr>\n",
       "      <th>goal likelihood</th>\n",
       "      <td>0.008527</td>\n",
       "      <td>0.999399</td>\n",
       "    </tr>\n",
       "  </tbody>\n",
       "</table>\n",
       "</div>"
      ],
      "text/plain": [
       "                                 1         2\n",
       "path_to_goal_length            0.0      30.0\n",
       "in_correct_lane              False      True\n",
       "speed                         10.0      10.0\n",
       "acceleration                   2.0       2.0\n",
       "angle_in_lane                  1.0       1.0\n",
       "vehicle_in_front_dist          0.0       0.0\n",
       "vehicle_in_front_speed         0.0       0.0\n",
       "oncoming_vehicle_dist          0.0       0.0\n",
       "oncoming_vehicle_speed         0.0       0.0\n",
       "road_heading                   1.0       0.0\n",
       "exit_number                    0.0       0.0\n",
       "heading_change_1s              0.0       0.0\n",
       "oncoming_vehicle_missing     False     False\n",
       "target_1s_occluded            True     False\n",
       "vehicle_in_front_missing      True      True\n",
       "exit_number_missing          False     False\n",
       "goal probability           0.00846   0.99154\n",
       "goal likelihood           0.008527  0.999399"
      ]
     },
     "execution_count": 7,
     "metadata": {},
     "output_type": "execute_result"
    }
   ],
   "source": [
    "extract_counter_example(s, features1, probs1, likelihoods1)"
   ]
  },
  {
   "cell_type": "code",
   "execution_count": 8,
   "metadata": {},
   "outputs": [
    {
     "data": {
      "text/html": [
       "<div>\n",
       "<style scoped>\n",
       "    .dataframe tbody tr th:only-of-type {\n",
       "        vertical-align: middle;\n",
       "    }\n",
       "\n",
       "    .dataframe tbody tr th {\n",
       "        vertical-align: top;\n",
       "    }\n",
       "\n",
       "    .dataframe thead th {\n",
       "        text-align: right;\n",
       "    }\n",
       "</style>\n",
       "<table border=\"1\" class=\"dataframe\">\n",
       "  <thead>\n",
       "    <tr style=\"text-align: right;\">\n",
       "      <th></th>\n",
       "      <th>1</th>\n",
       "      <th>2</th>\n",
       "    </tr>\n",
       "  </thead>\n",
       "  <tbody>\n",
       "    <tr>\n",
       "      <th>path_to_goal_length</th>\n",
       "      <td>0.0</td>\n",
       "      <td>30.0</td>\n",
       "    </tr>\n",
       "    <tr>\n",
       "      <th>in_correct_lane</th>\n",
       "      <td>False</td>\n",
       "      <td>True</td>\n",
       "    </tr>\n",
       "    <tr>\n",
       "      <th>speed</th>\n",
       "      <td>10.0</td>\n",
       "      <td>10.0</td>\n",
       "    </tr>\n",
       "    <tr>\n",
       "      <th>acceleration</th>\n",
       "      <td>2.0</td>\n",
       "      <td>2.0</td>\n",
       "    </tr>\n",
       "    <tr>\n",
       "      <th>angle_in_lane</th>\n",
       "      <td>1.0</td>\n",
       "      <td>1.0</td>\n",
       "    </tr>\n",
       "    <tr>\n",
       "      <th>vehicle_in_front_dist</th>\n",
       "      <td>0.0</td>\n",
       "      <td>0.0</td>\n",
       "    </tr>\n",
       "    <tr>\n",
       "      <th>vehicle_in_front_speed</th>\n",
       "      <td>0.0</td>\n",
       "      <td>0.0</td>\n",
       "    </tr>\n",
       "    <tr>\n",
       "      <th>oncoming_vehicle_dist</th>\n",
       "      <td>0.0</td>\n",
       "      <td>0.0</td>\n",
       "    </tr>\n",
       "    <tr>\n",
       "      <th>oncoming_vehicle_speed</th>\n",
       "      <td>0.0</td>\n",
       "      <td>0.0</td>\n",
       "    </tr>\n",
       "    <tr>\n",
       "      <th>road_heading</th>\n",
       "      <td>1.0</td>\n",
       "      <td>0.0</td>\n",
       "    </tr>\n",
       "    <tr>\n",
       "      <th>exit_number</th>\n",
       "      <td>0.0</td>\n",
       "      <td>0.0</td>\n",
       "    </tr>\n",
       "    <tr>\n",
       "      <th>heading_change_1s</th>\n",
       "      <td>0.0</td>\n",
       "      <td>0.0</td>\n",
       "    </tr>\n",
       "    <tr>\n",
       "      <th>oncoming_vehicle_missing</th>\n",
       "      <td>False</td>\n",
       "      <td>False</td>\n",
       "    </tr>\n",
       "    <tr>\n",
       "      <th>target_1s_occluded</th>\n",
       "      <td>True</td>\n",
       "      <td>False</td>\n",
       "    </tr>\n",
       "    <tr>\n",
       "      <th>vehicle_in_front_missing</th>\n",
       "      <td>False</td>\n",
       "      <td>False</td>\n",
       "    </tr>\n",
       "    <tr>\n",
       "      <th>exit_number_missing</th>\n",
       "      <td>False</td>\n",
       "      <td>False</td>\n",
       "    </tr>\n",
       "    <tr>\n",
       "      <th>goal probability</th>\n",
       "      <td>0.00859</td>\n",
       "      <td>0.99141</td>\n",
       "    </tr>\n",
       "    <tr>\n",
       "      <th>goal likelihood</th>\n",
       "      <td>0.008527</td>\n",
       "      <td>0.98415</td>\n",
       "    </tr>\n",
       "  </tbody>\n",
       "</table>\n",
       "</div>"
      ],
      "text/plain": [
       "                                 1        2\n",
       "path_to_goal_length            0.0     30.0\n",
       "in_correct_lane              False     True\n",
       "speed                         10.0     10.0\n",
       "acceleration                   2.0      2.0\n",
       "angle_in_lane                  1.0      1.0\n",
       "vehicle_in_front_dist          0.0      0.0\n",
       "vehicle_in_front_speed         0.0      0.0\n",
       "oncoming_vehicle_dist          0.0      0.0\n",
       "oncoming_vehicle_speed         0.0      0.0\n",
       "road_heading                   1.0      0.0\n",
       "exit_number                    0.0      0.0\n",
       "heading_change_1s              0.0      0.0\n",
       "oncoming_vehicle_missing     False    False\n",
       "target_1s_occluded            True    False\n",
       "vehicle_in_front_missing     False    False\n",
       "exit_number_missing          False    False\n",
       "goal probability           0.00859  0.99141\n",
       "goal likelihood           0.008527  0.98415"
      ]
     },
     "execution_count": 8,
     "metadata": {},
     "output_type": "execute_result"
    }
   ],
   "source": [
    "extract_counter_example(s, features2, probs2, likelihoods2)"
   ]
  },
  {
   "cell_type": "markdown",
   "metadata": {},
   "source": [
    "Straight on goal increases in likelihood, as path to goal length feature is checked in this branch, but not checked in the branch where potentially missing feature is checked.\n",
    "\n",
    "Being very to goal increases likelihood of striaght on goal - maybe vehicles turning left rarely come this close to the goal."
   ]
  },
  {
   "cell_type": "code",
   "execution_count": 9,
   "metadata": {},
   "outputs": [
    {
     "name": "stdout",
     "output_type": "stream",
     "text": [
      "unsat\n"
     ]
    }
   ],
   "source": [
    "scenario_name = 'heckstrasse'\n",
    "model = OcclusionGrit.load(scenario_name)\n",
    "reachable_goals = [(1, 'straight-on'), (2, 'exit-left')]\n",
    "\n",
    "s = Solver()\n",
    "\n",
    "features1, probs1, likelihoods1 = add_goal_tree_model(reachable_goals, s, model, suffix='_1')\n",
    "features2, probs2, likelihoods2 = add_goal_tree_model(reachable_goals, s, model, suffix='_2')\n",
    "\n",
    "indicator_feature = 'oncoming_vehicle_missing'\n",
    "\n",
    "for goal_idx, goal_type in reachable_goals:\n",
    "    s.add(And(Not(features1[goal_idx][indicator_feature]), \\\n",
    "          features2[goal_idx][indicator_feature]))\n",
    "    \n",
    "    for feature_name in features1[goal_idx]:\n",
    "        if feature_name != indicator_feature:\n",
    "            s.add(features1[goal_idx][feature_name] == features2[goal_idx][feature_name])\n",
    "\n",
    "\n",
    "verify_expr = And(Implies(probs1[1] < probs1[2], probs2[2] >= probs1[2]), \n",
    "                  Implies(probs1[1] > probs1[2], probs2[1] >= probs1[1]))\n",
    "\n",
    "s.add(Not(verify_expr))\n",
    "\n",
    "\n",
    "print(s.check())"
   ]
  },
  {
   "cell_type": "markdown",
   "metadata": {},
   "source": [
    "having missing feature does not lead to entropy decrease, all other features equal, if not within 20m of goal"
   ]
  },
  {
   "cell_type": "code",
   "execution_count": 10,
   "metadata": {},
   "outputs": [
    {
     "name": "stdout",
     "output_type": "stream",
     "text": [
      "unsat\n"
     ]
    }
   ],
   "source": [
    "scenario_name = 'heckstrasse'\n",
    "model = OcclusionGrit.load(scenario_name)\n",
    "reachable_goals = [(1, 'straight-on'), (2, 'exit-left')]\n",
    "\n",
    "s = Solver()\n",
    "\n",
    "features1, probs1, likelihoods1 = add_goal_tree_model(reachable_goals, s, model, suffix='_1')\n",
    "features2, probs2, likelihoods2 = add_goal_tree_model(reachable_goals, s, model, suffix='_2')\n",
    "\n",
    "indicator_feature = 'oncoming_vehicle_missing'\n",
    "\n",
    "for goal_idx, goal_type in reachable_goals:\n",
    "    s.add(And(Not(features1[goal_idx][indicator_feature]), \\\n",
    "          features2[goal_idx][indicator_feature]))\n",
    "    s.add(features1[goal_idx]['path_to_goal_length'] > 20)\n",
    "    \n",
    "    for feature_name in features1[goal_idx]:\n",
    "        if feature_name != indicator_feature:\n",
    "            s.add(features1[goal_idx][feature_name] == features2[goal_idx][feature_name])\n",
    "\n",
    "\n",
    "verify_expr = And(Implies(probs1[1] < probs1[2], probs2[2] >= probs1[2]), \n",
    "                  Implies(probs1[1] > probs1[2], probs2[1] >= probs1[1]))\n",
    "\n",
    "s.add(Not(verify_expr))\n",
    "\n",
    "\n",
    "print(s.check())"
   ]
  },
  {
   "cell_type": "markdown",
   "metadata": {},
   "source": [
    "if exit number is 4th exit, then likelihood should be lower than if exit number missing "
   ]
  },
  {
   "cell_type": "code",
   "execution_count": 11,
   "metadata": {},
   "outputs": [
    {
     "name": "stdout",
     "output_type": "stream",
     "text": [
      "sat\n"
     ]
    }
   ],
   "source": [
    "scenario_name = 'neuweiler'\n",
    "model = OcclusionGrit.load(scenario_name)\n",
    "reachable_goals = [(0, 'exit-roundabout'), (1, 'exit-roundabout'),\n",
    "                   (2, 'exit-roundabout'), (3, 'exit-roundabout')]\n",
    "\n",
    "s = Solver()\n",
    "\n",
    "features1, probs1, likelihoods1 = add_goal_tree_model(reachable_goals, s, model, suffix='_1')\n",
    "features2, probs2, likelihoods2 = add_goal_tree_model(reachable_goals, s, model, suffix='_2')\n",
    "\n",
    "indicator_feature = 'exit_number_missing'\n",
    "\n",
    "for goal_idx, goal_type in reachable_goals:\n",
    "    s.add(And(Not(features1[goal_idx][indicator_feature]), \\\n",
    "          features2[goal_idx][indicator_feature]))\n",
    "    s.add(features1[goal_idx]['path_to_goal_length'] > 20)\n",
    "    s.add(features1[goal_idx][indicator_feature] == Int(goal_idx+1))\n",
    "    for feature_name in features1[goal_idx]:\n",
    "        if feature_name != indicator_feature and feature_name != 'exit_number':\n",
    "            s.add(features1[goal_idx][feature_name] == features2[goal_idx][feature_name])\n",
    "\n",
    "\n",
    "verify_expr = And(Implies(probs1[1] < probs1[2], probs2[2] >= probs1[2]), \n",
    "                  Implies(probs1[1] > probs1[2], probs2[1] >= probs1[1]))\n",
    "\n",
    "s.add(Not(verify_expr))\n",
    "\n",
    "\n",
    "print(s.check())"
   ]
  },
  {
   "cell_type": "markdown",
   "metadata": {},
   "source": [
    "if exit number is 4th exit, then likelihood should be lower than if exit number is 2, if path to goal length is greater than 40m, all other features equal"
   ]
  },
  {
   "cell_type": "code",
   "execution_count": 12,
   "metadata": {},
   "outputs": [
    {
     "name": "stdout",
     "output_type": "stream",
     "text": [
      "3 exit-roundabout unsat\n"
     ]
    }
   ],
   "source": [
    "scenario_name = 'neuweiler'\n",
    "model = OcclusionGrit.load(scenario_name)\n",
    "goal_idx = 3\n",
    "goal_type = 'exit-roundabout'\n",
    "s = Solver()\n",
    "\n",
    "features1, likelihood1, prob1 = add_single_tree_model(\n",
    "    goal_idx, goal_type, s, model, suffix='_1')\n",
    "features2, likelihood2, prob2 = add_single_tree_model(\n",
    "    goal_idx, goal_type, s, model, suffix='_2')\n",
    "\n",
    "for feature_name in features1:\n",
    "    if feature_name != 'exit_number':\n",
    "        s.add(features1[feature_name] == features2[feature_name])\n",
    "\n",
    "s.add(features1['path_to_goal_length'] == 50)\n",
    "s.add(features1['exit_number'] == 4)\n",
    "s.add(features2['exit_number'] == 2)\n",
    "\n",
    "verify_expr = likelihood2 >= likelihood1\n",
    "\n",
    "s.add(Not(verify_expr))\n",
    "\n",
    "\n",
    "print(goal_idx, goal_type, s.check())"
   ]
  },
  {
   "cell_type": "markdown",
   "metadata": {},
   "source": [
    "if exit number is 4th exit, then likelihood should be lower than if exit number is missing, if path to goal length is 50m, and the vehicle's angle in lane is zero, all other features equal"
   ]
  },
  {
   "cell_type": "code",
   "execution_count": 13,
   "metadata": {},
   "outputs": [
    {
     "name": "stdout",
     "output_type": "stream",
     "text": [
      "3 exit-roundabout unsat\n"
     ]
    }
   ],
   "source": [
    "scenario_name = 'neuweiler'\n",
    "model = OcclusionGrit.load(scenario_name)\n",
    "goal_idx = 3\n",
    "goal_type = 'exit-roundabout'\n",
    "s = Solver()\n",
    "\n",
    "features1, likelihood1, prob1 = add_single_tree_model(\n",
    "    goal_idx, goal_type, s, model, suffix='_1')\n",
    "features2, likelihood2, prob2 = add_single_tree_model(\n",
    "    goal_idx, goal_type, s, model, suffix='_2')\n",
    "\n",
    "for feature_name in features1:\n",
    "    if feature_name != 'exit_number' and feature_name != 'exit_number_missing':\n",
    "        s.add(features1[feature_name] == features2[feature_name])\n",
    "\n",
    "s.add(features1['path_to_goal_length'] == 50)\n",
    "s.add(features1['angle_in_lane'] == 0)\n",
    "\n",
    "s.add(features1['exit_number'] == 4)\n",
    "s.add(features1['exit_number_missing'] == False)\n",
    "s.add(features2['exit_number_missing'] == True)\n",
    "\n",
    "verify_expr = likelihood2 >= likelihood1\n",
    "\n",
    "s.add(Not(verify_expr))\n",
    "\n",
    "\n",
    "print(goal_idx, goal_type, s.check())"
   ]
  },
  {
   "cell_type": "markdown",
   "metadata": {},
   "source": [
    "If a vehicle is stopped at a junction, and oncoming vehicle is missing, then turning right should have higher likelihood than if there is no oncoming vehicle"
   ]
  },
  {
   "cell_type": "code",
   "execution_count": 14,
   "metadata": {},
   "outputs": [
    {
     "name": "stdout",
     "output_type": "stream",
     "text": [
      "3 enter-right unsat\n"
     ]
    }
   ],
   "source": [
    "scenario_name = 'bendplatz'\n",
    "model = OcclusionGrit.load(scenario_name)\n",
    "goal_type = 'enter-right'\n",
    "s = Solver()\n",
    "\n",
    "features1, likelihood1, prob1 = add_single_tree_model(\n",
    "    goal_idx, goal_type, s, model, suffix='_1')\n",
    "features2, likelihood2, prob2 = add_single_tree_model(\n",
    "    goal_idx, goal_type, s, model, suffix='_2')\n",
    "\n",
    "for feature_name in features1:\n",
    "    if feature_name not in ['oncoming_vehicle_missing']:\n",
    "        s.add(features1[feature_name] == features2[feature_name])\n",
    "\n",
    "#s.add(features1['path_to_goal_length'] == 10)\n",
    "s.add(features1['speed'] < 1)\n",
    "s.add(features1['angle_in_lane'] == 0)\n",
    "\n",
    "s.add(features1['oncoming_vehicle_speed'] == 20)\n",
    "s.add(features1['oncoming_vehicle_dist'] == 100)\n",
    "s.add(features1['oncoming_vehicle_missing'] == False)\n",
    "s.add(features2['oncoming_vehicle_missing'] == True)\n",
    "\n",
    "verify_expr = likelihood2 >= likelihood1\n",
    "\n",
    "s.add(Not(verify_expr))\n",
    "\n",
    "\n",
    "print(goal_idx, goal_type, s.check())"
   ]
  },
  {
   "cell_type": "code",
   "execution_count": 15,
   "metadata": {},
   "outputs": [
    {
     "ename": "Z3Exception",
     "evalue": "model is not available",
     "output_type": "error",
     "traceback": [
      "\u001b[0;31m---------------------------------------------------------------------------\u001b[0m",
      "\u001b[0;31mZ3Exception\u001b[0m                               Traceback (most recent call last)",
      "\u001b[0;32m~/.local/lib/python3.8/site-packages/z3/z3.py\u001b[0m in \u001b[0;36mmodel\u001b[0;34m(self)\u001b[0m\n\u001b[1;32m   7129\u001b[0m         \u001b[0;32mtry\u001b[0m\u001b[0;34m:\u001b[0m\u001b[0;34m\u001b[0m\u001b[0;34m\u001b[0m\u001b[0m\n\u001b[0;32m-> 7130\u001b[0;31m             \u001b[0;32mreturn\u001b[0m \u001b[0mModelRef\u001b[0m\u001b[0;34m(\u001b[0m\u001b[0mZ3_solver_get_model\u001b[0m\u001b[0;34m(\u001b[0m\u001b[0mself\u001b[0m\u001b[0;34m.\u001b[0m\u001b[0mctx\u001b[0m\u001b[0;34m.\u001b[0m\u001b[0mref\u001b[0m\u001b[0;34m(\u001b[0m\u001b[0;34m)\u001b[0m\u001b[0;34m,\u001b[0m \u001b[0mself\u001b[0m\u001b[0;34m.\u001b[0m\u001b[0msolver\u001b[0m\u001b[0;34m)\u001b[0m\u001b[0;34m,\u001b[0m \u001b[0mself\u001b[0m\u001b[0;34m.\u001b[0m\u001b[0mctx\u001b[0m\u001b[0;34m)\u001b[0m\u001b[0;34m\u001b[0m\u001b[0;34m\u001b[0m\u001b[0m\n\u001b[0m\u001b[1;32m   7131\u001b[0m         \u001b[0;32mexcept\u001b[0m \u001b[0mZ3Exception\u001b[0m\u001b[0;34m:\u001b[0m\u001b[0;34m\u001b[0m\u001b[0;34m\u001b[0m\u001b[0m\n",
      "\u001b[0;32m~/.local/lib/python3.8/site-packages/z3/z3core.py\u001b[0m in \u001b[0;36mZ3_solver_get_model\u001b[0;34m(a0, a1, _elems)\u001b[0m\n\u001b[1;32m   4064\u001b[0m   \u001b[0mr\u001b[0m \u001b[0;34m=\u001b[0m \u001b[0m_elems\u001b[0m\u001b[0;34m.\u001b[0m\u001b[0mf\u001b[0m\u001b[0;34m(\u001b[0m\u001b[0ma0\u001b[0m\u001b[0;34m,\u001b[0m \u001b[0ma1\u001b[0m\u001b[0;34m)\u001b[0m\u001b[0;34m\u001b[0m\u001b[0;34m\u001b[0m\u001b[0m\n\u001b[0;32m-> 4065\u001b[0;31m   \u001b[0m_elems\u001b[0m\u001b[0;34m.\u001b[0m\u001b[0mCheck\u001b[0m\u001b[0;34m(\u001b[0m\u001b[0ma0\u001b[0m\u001b[0;34m)\u001b[0m\u001b[0;34m\u001b[0m\u001b[0;34m\u001b[0m\u001b[0m\n\u001b[0m\u001b[1;32m   4066\u001b[0m   \u001b[0;32mreturn\u001b[0m \u001b[0mr\u001b[0m\u001b[0;34m\u001b[0m\u001b[0;34m\u001b[0m\u001b[0m\n",
      "\u001b[0;32m~/.local/lib/python3.8/site-packages/z3/z3core.py\u001b[0m in \u001b[0;36mCheck\u001b[0;34m(self, ctx)\u001b[0m\n\u001b[1;32m   1474\u001b[0m     \u001b[0;32mif\u001b[0m \u001b[0merr\u001b[0m \u001b[0;34m!=\u001b[0m \u001b[0mself\u001b[0m\u001b[0;34m.\u001b[0m\u001b[0mOK\u001b[0m\u001b[0;34m:\u001b[0m\u001b[0;34m\u001b[0m\u001b[0;34m\u001b[0m\u001b[0m\n\u001b[0;32m-> 1475\u001b[0;31m         \u001b[0;32mraise\u001b[0m \u001b[0mself\u001b[0m\u001b[0;34m.\u001b[0m\u001b[0mException\u001b[0m\u001b[0;34m(\u001b[0m\u001b[0mself\u001b[0m\u001b[0;34m.\u001b[0m\u001b[0mget_error_message\u001b[0m\u001b[0;34m(\u001b[0m\u001b[0mctx\u001b[0m\u001b[0;34m,\u001b[0m \u001b[0merr\u001b[0m\u001b[0;34m)\u001b[0m\u001b[0;34m)\u001b[0m\u001b[0;34m\u001b[0m\u001b[0;34m\u001b[0m\u001b[0m\n\u001b[0m\u001b[1;32m   1476\u001b[0m \u001b[0;34m\u001b[0m\u001b[0m\n",
      "\u001b[0;31mZ3Exception\u001b[0m: b'there is no current model'",
      "\nDuring handling of the above exception, another exception occurred:\n",
      "\u001b[0;31mZ3Exception\u001b[0m                               Traceback (most recent call last)",
      "\u001b[0;32m/tmp/ipykernel_27877/420551258.py\u001b[0m in \u001b[0;36m<module>\u001b[0;34m\u001b[0m\n\u001b[0;32m----> 1\u001b[0;31m pd.merge(extract_tree_counter_example(s, features1, likelihood1).rename('1'),\n\u001b[0m\u001b[1;32m      2\u001b[0m          \u001b[0mextract_tree_counter_example\u001b[0m\u001b[0;34m(\u001b[0m\u001b[0ms\u001b[0m\u001b[0;34m,\u001b[0m \u001b[0mfeatures2\u001b[0m\u001b[0;34m,\u001b[0m \u001b[0mlikelihood2\u001b[0m\u001b[0;34m)\u001b[0m\u001b[0;34m.\u001b[0m\u001b[0mrename\u001b[0m\u001b[0;34m(\u001b[0m\u001b[0;34m'2'\u001b[0m\u001b[0;34m)\u001b[0m\u001b[0;34m,\u001b[0m\u001b[0;34m\u001b[0m\u001b[0;34m\u001b[0m\u001b[0m\n\u001b[1;32m      3\u001b[0m          right_index=True, left_index=True)\n",
      "\u001b[0;32m~/phd/projects/OGRIT/ogrit/evaluation/verification.py\u001b[0m in \u001b[0;36mextract_tree_counter_example\u001b[0;34m(solver, features, likelihood)\u001b[0m\n\u001b[1;32m    139\u001b[0m     \u001b[0mfeature_values\u001b[0m \u001b[0;34m=\u001b[0m \u001b[0mpd\u001b[0m\u001b[0;34m.\u001b[0m\u001b[0mSeries\u001b[0m\u001b[0;34m(\u001b[0m\u001b[0mindex\u001b[0m\u001b[0;34m=\u001b[0m\u001b[0mFeatureExtractor\u001b[0m\u001b[0;34m.\u001b[0m\u001b[0mfeature_names\u001b[0m\u001b[0;34m)\u001b[0m\u001b[0;34m\u001b[0m\u001b[0;34m\u001b[0m\u001b[0m\n\u001b[1;32m    140\u001b[0m     \u001b[0;32mfor\u001b[0m \u001b[0mfeature_name\u001b[0m\u001b[0;34m,\u001b[0m \u001b[0mfeature\u001b[0m \u001b[0;32min\u001b[0m \u001b[0mfeatures\u001b[0m\u001b[0;34m.\u001b[0m\u001b[0mitems\u001b[0m\u001b[0;34m(\u001b[0m\u001b[0;34m)\u001b[0m\u001b[0;34m:\u001b[0m\u001b[0;34m\u001b[0m\u001b[0;34m\u001b[0m\u001b[0m\n\u001b[0;32m--> 141\u001b[0;31m         \u001b[0mvalue_str\u001b[0m \u001b[0;34m=\u001b[0m \u001b[0mstr\u001b[0m\u001b[0;34m(\u001b[0m\u001b[0msolver\u001b[0m\u001b[0;34m.\u001b[0m\u001b[0mmodel\u001b[0m\u001b[0;34m(\u001b[0m\u001b[0;34m)\u001b[0m\u001b[0;34m[\u001b[0m\u001b[0mfeature\u001b[0m\u001b[0;34m]\u001b[0m\u001b[0;34m)\u001b[0m\u001b[0;34m\u001b[0m\u001b[0;34m\u001b[0m\u001b[0m\n\u001b[0m\u001b[1;32m    142\u001b[0m         \u001b[0;32mif\u001b[0m \u001b[0mvalue_str\u001b[0m \u001b[0;34m==\u001b[0m \u001b[0;34m'None'\u001b[0m\u001b[0;34m:\u001b[0m\u001b[0;34m\u001b[0m\u001b[0;34m\u001b[0m\u001b[0m\n\u001b[1;32m    143\u001b[0m             \u001b[0mvalue\u001b[0m \u001b[0;34m=\u001b[0m \u001b[0;32mNone\u001b[0m\u001b[0;34m\u001b[0m\u001b[0;34m\u001b[0m\u001b[0m\n",
      "\u001b[0;32m~/.local/lib/python3.8/site-packages/z3/z3.py\u001b[0m in \u001b[0;36mmodel\u001b[0;34m(self)\u001b[0m\n\u001b[1;32m   7130\u001b[0m             \u001b[0;32mreturn\u001b[0m \u001b[0mModelRef\u001b[0m\u001b[0;34m(\u001b[0m\u001b[0mZ3_solver_get_model\u001b[0m\u001b[0;34m(\u001b[0m\u001b[0mself\u001b[0m\u001b[0;34m.\u001b[0m\u001b[0mctx\u001b[0m\u001b[0;34m.\u001b[0m\u001b[0mref\u001b[0m\u001b[0;34m(\u001b[0m\u001b[0;34m)\u001b[0m\u001b[0;34m,\u001b[0m \u001b[0mself\u001b[0m\u001b[0;34m.\u001b[0m\u001b[0msolver\u001b[0m\u001b[0;34m)\u001b[0m\u001b[0;34m,\u001b[0m \u001b[0mself\u001b[0m\u001b[0;34m.\u001b[0m\u001b[0mctx\u001b[0m\u001b[0;34m)\u001b[0m\u001b[0;34m\u001b[0m\u001b[0;34m\u001b[0m\u001b[0m\n\u001b[1;32m   7131\u001b[0m         \u001b[0;32mexcept\u001b[0m \u001b[0mZ3Exception\u001b[0m\u001b[0;34m:\u001b[0m\u001b[0;34m\u001b[0m\u001b[0;34m\u001b[0m\u001b[0m\n\u001b[0;32m-> 7132\u001b[0;31m             \u001b[0;32mraise\u001b[0m \u001b[0mZ3Exception\u001b[0m\u001b[0;34m(\u001b[0m\u001b[0;34m\"model is not available\"\u001b[0m\u001b[0;34m)\u001b[0m\u001b[0;34m\u001b[0m\u001b[0;34m\u001b[0m\u001b[0m\n\u001b[0m\u001b[1;32m   7133\u001b[0m \u001b[0;34m\u001b[0m\u001b[0m\n\u001b[1;32m   7134\u001b[0m     \u001b[0;32mdef\u001b[0m \u001b[0mimport_model_converter\u001b[0m\u001b[0;34m(\u001b[0m\u001b[0mself\u001b[0m\u001b[0;34m,\u001b[0m \u001b[0mother\u001b[0m\u001b[0;34m)\u001b[0m\u001b[0;34m:\u001b[0m\u001b[0;34m\u001b[0m\u001b[0;34m\u001b[0m\u001b[0m\n",
      "\u001b[0;31mZ3Exception\u001b[0m: model is not available"
     ]
    }
   ],
   "source": [
    "pd.merge(extract_tree_counter_example(s, features1, likelihood1).rename('1'),\n",
    "         extract_tree_counter_example(s, features2, likelihood2).rename('2'),\n",
    "         right_index=True, left_index=True)"
   ]
  },
  {
   "cell_type": "code",
   "execution_count": null,
   "metadata": {},
   "outputs": [],
   "source": []
  }
 ],
 "metadata": {
  "kernelspec": {
   "display_name": "Python 3 (ipykernel)",
   "language": "python",
   "name": "python3"
  },
  "language_info": {
   "codemirror_mode": {
    "name": "ipython",
    "version": 3
   },
   "file_extension": ".py",
   "mimetype": "text/x-python",
   "name": "python",
   "nbconvert_exporter": "python",
   "pygments_lexer": "ipython3",
   "version": "3.8.8"
  }
 },
 "nbformat": 4,
 "nbformat_minor": 4
}
